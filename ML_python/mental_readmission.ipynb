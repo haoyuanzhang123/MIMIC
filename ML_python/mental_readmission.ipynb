{
 "cells": [
  {
   "cell_type": "code",
   "execution_count": 1,
   "metadata": {},
   "outputs": [],
   "source": [
    "import numpy as np\n",
    "import pandas as pd\n",
    "import psycopg2\n",
    "import matplotlib.pyplot as plt\n",
    "\n",
    "%matplotlib inline"
   ]
  },
  {
   "cell_type": "code",
   "execution_count": 3,
   "metadata": {},
   "outputs": [],
   "source": [
    "# create a database connection\n",
    "sqluser = 'postgres'\n",
    "dbname = 'mimic'\n",
    "schema_name = 'mimiciii'\n",
    "sqlpassword = 'postgres'\n",
    "\n",
    "# Connect to local postgres version of mimic\n",
    "con = psycopg2.connect(dbname=dbname, user=sqluser, password = sqlpassword)\n",
    "cur = con.cursor()"
   ]
  },
  {
   "cell_type": "code",
   "execution_count": 4,
   "metadata": {},
   "outputs": [
    {
     "data": {
      "text/html": [
       "<div>\n",
       "<style scoped>\n",
       "    .dataframe tbody tr th:only-of-type {\n",
       "        vertical-align: middle;\n",
       "    }\n",
       "\n",
       "    .dataframe tbody tr th {\n",
       "        vertical-align: top;\n",
       "    }\n",
       "\n",
       "    .dataframe thead th {\n",
       "        text-align: right;\n",
       "    }\n",
       "</style>\n",
       "<table border=\"1\" class=\"dataframe\">\n",
       "  <thead>\n",
       "    <tr style=\"text-align: right;\">\n",
       "      <th></th>\n",
       "      <th>subject_id</th>\n",
       "      <th>hadm_id</th>\n",
       "      <th>admittime</th>\n",
       "      <th>dischtime</th>\n",
       "      <th>deathtime</th>\n",
       "      <th>icd9_code</th>\n",
       "      <th>age</th>\n",
       "      <th>gender</th>\n",
       "      <th>marital_status</th>\n",
       "      <th>insurance</th>\n",
       "      <th>...</th>\n",
       "      <th>sysbp_mean</th>\n",
       "      <th>diasbp_min</th>\n",
       "      <th>diasbp_max</th>\n",
       "      <th>diasbp_mean</th>\n",
       "      <th>temp_min</th>\n",
       "      <th>temp_max</th>\n",
       "      <th>temp_mean</th>\n",
       "      <th>urine_min</th>\n",
       "      <th>urine_mean</th>\n",
       "      <th>urine_max</th>\n",
       "    </tr>\n",
       "  </thead>\n",
       "  <tbody>\n",
       "    <tr>\n",
       "      <th>0</th>\n",
       "      <td>17</td>\n",
       "      <td>161087</td>\n",
       "      <td>2135-05-09 14:11:00</td>\n",
       "      <td>2135-05-13 14:40:00</td>\n",
       "      <td>NaT</td>\n",
       "      <td>311</td>\n",
       "      <td>47.819229</td>\n",
       "      <td>F</td>\n",
       "      <td>MARRIED</td>\n",
       "      <td>Private</td>\n",
       "      <td>...</td>\n",
       "      <td>117.00</td>\n",
       "      <td>52.0</td>\n",
       "      <td>71.0</td>\n",
       "      <td>63.20</td>\n",
       "      <td>36.599998</td>\n",
       "      <td>38.200001</td>\n",
       "      <td>37.33</td>\n",
       "      <td>30.0</td>\n",
       "      <td>104.0</td>\n",
       "      <td>360.0</td>\n",
       "    </tr>\n",
       "    <tr>\n",
       "      <th>1</th>\n",
       "      <td>22</td>\n",
       "      <td>165315</td>\n",
       "      <td>2196-04-09 12:26:00</td>\n",
       "      <td>2196-04-10 15:54:00</td>\n",
       "      <td>NaT</td>\n",
       "      <td>29620</td>\n",
       "      <td>64.928234</td>\n",
       "      <td>F</td>\n",
       "      <td>MARRIED</td>\n",
       "      <td>Private</td>\n",
       "      <td>...</td>\n",
       "      <td>141.54</td>\n",
       "      <td>65.0</td>\n",
       "      <td>91.0</td>\n",
       "      <td>74.31</td>\n",
       "      <td>36.444444</td>\n",
       "      <td>37.444445</td>\n",
       "      <td>36.94</td>\n",
       "      <td>0.0</td>\n",
       "      <td>90.0</td>\n",
       "      <td>160.0</td>\n",
       "    </tr>\n",
       "    <tr>\n",
       "      <th>2</th>\n",
       "      <td>28</td>\n",
       "      <td>162569</td>\n",
       "      <td>2177-09-01 07:15:00</td>\n",
       "      <td>2177-09-06 16:00:00</td>\n",
       "      <td>NaT</td>\n",
       "      <td>30029</td>\n",
       "      <td>74.384386</td>\n",
       "      <td>M</td>\n",
       "      <td>MARRIED</td>\n",
       "      <td>Medicare</td>\n",
       "      <td>...</td>\n",
       "      <td>121.62</td>\n",
       "      <td>33.0</td>\n",
       "      <td>61.0</td>\n",
       "      <td>47.74</td>\n",
       "      <td>35.900002</td>\n",
       "      <td>37.700001</td>\n",
       "      <td>37.03</td>\n",
       "      <td>40.0</td>\n",
       "      <td>153.0</td>\n",
       "      <td>760.0</td>\n",
       "    </tr>\n",
       "    <tr>\n",
       "      <th>3</th>\n",
       "      <td>36</td>\n",
       "      <td>182104</td>\n",
       "      <td>2131-04-30 07:15:00</td>\n",
       "      <td>2131-05-08 14:00:00</td>\n",
       "      <td>NaT</td>\n",
       "      <td>3051</td>\n",
       "      <td>69.699821</td>\n",
       "      <td>M</td>\n",
       "      <td>MARRIED</td>\n",
       "      <td>Medicare</td>\n",
       "      <td>...</td>\n",
       "      <td>110.11</td>\n",
       "      <td>42.0</td>\n",
       "      <td>101.0</td>\n",
       "      <td>68.77</td>\n",
       "      <td>36.099998</td>\n",
       "      <td>37.500000</td>\n",
       "      <td>36.86</td>\n",
       "      <td>7.0</td>\n",
       "      <td>99.0</td>\n",
       "      <td>450.0</td>\n",
       "    </tr>\n",
       "    <tr>\n",
       "      <th>4</th>\n",
       "      <td>36</td>\n",
       "      <td>165660</td>\n",
       "      <td>2134-05-10 11:30:00</td>\n",
       "      <td>2134-05-20 13:16:00</td>\n",
       "      <td>NaT</td>\n",
       "      <td>30000</td>\n",
       "      <td>72.728435</td>\n",
       "      <td>M</td>\n",
       "      <td>MARRIED</td>\n",
       "      <td>Medicare</td>\n",
       "      <td>...</td>\n",
       "      <td>127.95</td>\n",
       "      <td>48.0</td>\n",
       "      <td>100.0</td>\n",
       "      <td>71.39</td>\n",
       "      <td>35.722222</td>\n",
       "      <td>38.166667</td>\n",
       "      <td>37.26</td>\n",
       "      <td>10.0</td>\n",
       "      <td>146.0</td>\n",
       "      <td>1000.0</td>\n",
       "    </tr>\n",
       "  </tbody>\n",
       "</table>\n",
       "<p>5 rows × 40 columns</p>\n",
       "</div>"
      ],
      "text/plain": [
       "   subject_id  hadm_id           admittime           dischtime deathtime  \\\n",
       "0          17   161087 2135-05-09 14:11:00 2135-05-13 14:40:00       NaT   \n",
       "1          22   165315 2196-04-09 12:26:00 2196-04-10 15:54:00       NaT   \n",
       "2          28   162569 2177-09-01 07:15:00 2177-09-06 16:00:00       NaT   \n",
       "3          36   182104 2131-04-30 07:15:00 2131-05-08 14:00:00       NaT   \n",
       "4          36   165660 2134-05-10 11:30:00 2134-05-20 13:16:00       NaT   \n",
       "\n",
       "  icd9_code        age gender marital_status insurance    ...      sysbp_mean  \\\n",
       "0       311  47.819229      F        MARRIED   Private    ...          117.00   \n",
       "1     29620  64.928234      F        MARRIED   Private    ...          141.54   \n",
       "2     30029  74.384386      M        MARRIED  Medicare    ...          121.62   \n",
       "3      3051  69.699821      M        MARRIED  Medicare    ...          110.11   \n",
       "4     30000  72.728435      M        MARRIED  Medicare    ...          127.95   \n",
       "\n",
       "   diasbp_min  diasbp_max  diasbp_mean   temp_min   temp_max  temp_mean  \\\n",
       "0        52.0        71.0        63.20  36.599998  38.200001      37.33   \n",
       "1        65.0        91.0        74.31  36.444444  37.444445      36.94   \n",
       "2        33.0        61.0        47.74  35.900002  37.700001      37.03   \n",
       "3        42.0       101.0        68.77  36.099998  37.500000      36.86   \n",
       "4        48.0       100.0        71.39  35.722222  38.166667      37.26   \n",
       "\n",
       "   urine_min  urine_mean  urine_max  \n",
       "0       30.0       104.0      360.0  \n",
       "1        0.0        90.0      160.0  \n",
       "2       40.0       153.0      760.0  \n",
       "3        7.0        99.0      450.0  \n",
       "4       10.0       146.0     1000.0  \n",
       "\n",
       "[5 rows x 40 columns]"
      ]
     },
     "execution_count": 4,
     "metadata": {},
     "output_type": "execute_result"
    }
   ],
   "source": [
    "query = \\\n",
    "\"\"\"\n",
    "select * from all_data_mental\n",
    "\"\"\"\n",
    "\n",
    "cur.execute('SET search_path to ' + schema_name)\n",
    "data = pd.read_sql_query(query,con)\n",
    "data.head()"
   ]
  },
  {
   "cell_type": "code",
   "execution_count": 5,
   "metadata": {},
   "outputs": [
    {
     "data": {
      "text/plain": [
       "subject_id            0\n",
       "hadm_id               0\n",
       "admittime             0\n",
       "dischtime             0\n",
       "deathtime         18428\n",
       "icd9_code             0\n",
       "age                   0\n",
       "gender                0\n",
       "marital_status     1308\n",
       "insurance             0\n",
       "urea_n_min            9\n",
       "urea_n_max            9\n",
       "urea_n_mean           9\n",
       "platelets_min        23\n",
       "platelets_max        23\n",
       "platelets_mean       23\n",
       "magnesium_max       176\n",
       "albumin_min        6263\n",
       "calcium_min         475\n",
       "resprate_min          8\n",
       "resprate_max          8\n",
       "resprate_mean         8\n",
       "glucose_min         161\n",
       "glucose_max         161\n",
       "glucose_mean        161\n",
       "hr_min                1\n",
       "hr_max                1\n",
       "hr_mean               1\n",
       "sysbp_min             4\n",
       "sysbp_max             4\n",
       "sysbp_mean            4\n",
       "diasbp_min            4\n",
       "diasbp_max            4\n",
       "diasbp_mean           4\n",
       "temp_min             43\n",
       "temp_max             43\n",
       "temp_mean            43\n",
       "urine_min             5\n",
       "urine_mean            5\n",
       "urine_max             5\n",
       "dtype: int64"
      ]
     },
     "execution_count": 5,
     "metadata": {},
     "output_type": "execute_result"
    }
   ],
   "source": [
    "np.sum(data.isnull())\n"
   ]
  },
  {
   "cell_type": "code",
   "execution_count": 6,
   "metadata": {},
   "outputs": [
    {
     "name": "stderr",
     "output_type": "stream",
     "text": [
      "C:\\Users\\Haoyuan\\Anaconda3\\lib\\site-packages\\ipykernel_launcher.py:13: FutureWarning: set_value is deprecated and will be removed in a future release. Please use .at[] or .iat[] accessors instead\n",
      "  del sys.path[0]\n",
      "C:\\Users\\Haoyuan\\Anaconda3\\lib\\site-packages\\ipykernel_launcher.py:14: FutureWarning: set_value is deprecated and will be removed in a future release. Please use .at[] or .iat[] accessors instead\n",
      "  \n"
     ]
    }
   ],
   "source": [
    "# calculate time delta between subsequent readmissions of the same patient \n",
    "data['readmit_dt'] = np.zeros(data.shape[0])\n",
    "data['next_readmit_dt'] = np.zeros(data.shape[0])\n",
    "\n",
    "for idx in np.arange(1,data.shape[0]):\n",
    "    if data.subject_id[idx] == data.subject_id[idx - 1]:     \n",
    "        prev_disch = data.dischtime[idx-1]\n",
    "        curr_adm = data.admittime[idx]\n",
    "        dt = curr_adm - prev_disch\n",
    "        dt_hrs_calc = np.round(dt.value/3600.0/1e9,2)\n",
    "\n",
    "#         data.set_value(idx,'adm_num',data['adm_num'][idx-1] + 1) \n",
    "        data.set_value(idx,'readmit_dt',dt_hrs_calc)\n",
    "        data.set_value(idx-1,'next_readmit_dt',dt_hrs_calc)"
   ]
  },
  {
   "cell_type": "code",
   "execution_count": 7,
   "metadata": {},
   "outputs": [
    {
     "data": {
      "text/html": [
       "<div>\n",
       "<style scoped>\n",
       "    .dataframe tbody tr th:only-of-type {\n",
       "        vertical-align: middle;\n",
       "    }\n",
       "\n",
       "    .dataframe tbody tr th {\n",
       "        vertical-align: top;\n",
       "    }\n",
       "\n",
       "    .dataframe thead th {\n",
       "        text-align: right;\n",
       "    }\n",
       "</style>\n",
       "<table border=\"1\" class=\"dataframe\">\n",
       "  <thead>\n",
       "    <tr style=\"text-align: right;\">\n",
       "      <th></th>\n",
       "      <th>subject_id</th>\n",
       "      <th>hadm_id</th>\n",
       "      <th>admittime</th>\n",
       "      <th>dischtime</th>\n",
       "      <th>deathtime</th>\n",
       "      <th>icd9_code</th>\n",
       "      <th>age</th>\n",
       "      <th>gender</th>\n",
       "      <th>marital_status</th>\n",
       "      <th>insurance</th>\n",
       "      <th>...</th>\n",
       "      <th>diasbp_max</th>\n",
       "      <th>diasbp_mean</th>\n",
       "      <th>temp_min</th>\n",
       "      <th>temp_max</th>\n",
       "      <th>temp_mean</th>\n",
       "      <th>urine_min</th>\n",
       "      <th>urine_mean</th>\n",
       "      <th>urine_max</th>\n",
       "      <th>readmit_dt</th>\n",
       "      <th>next_readmit_dt</th>\n",
       "    </tr>\n",
       "  </thead>\n",
       "  <tbody>\n",
       "    <tr>\n",
       "      <th>0</th>\n",
       "      <td>17</td>\n",
       "      <td>161087</td>\n",
       "      <td>2135-05-09 14:11:00</td>\n",
       "      <td>2135-05-13 14:40:00</td>\n",
       "      <td>NaT</td>\n",
       "      <td>311</td>\n",
       "      <td>47.819229</td>\n",
       "      <td>F</td>\n",
       "      <td>MARRIED</td>\n",
       "      <td>Private</td>\n",
       "      <td>...</td>\n",
       "      <td>71.0</td>\n",
       "      <td>63.20</td>\n",
       "      <td>36.599998</td>\n",
       "      <td>38.200001</td>\n",
       "      <td>37.33</td>\n",
       "      <td>30.0</td>\n",
       "      <td>104.0</td>\n",
       "      <td>360.0</td>\n",
       "      <td>0.0</td>\n",
       "      <td>0.0</td>\n",
       "    </tr>\n",
       "    <tr>\n",
       "      <th>1</th>\n",
       "      <td>22</td>\n",
       "      <td>165315</td>\n",
       "      <td>2196-04-09 12:26:00</td>\n",
       "      <td>2196-04-10 15:54:00</td>\n",
       "      <td>NaT</td>\n",
       "      <td>29620</td>\n",
       "      <td>64.928234</td>\n",
       "      <td>F</td>\n",
       "      <td>MARRIED</td>\n",
       "      <td>Private</td>\n",
       "      <td>...</td>\n",
       "      <td>91.0</td>\n",
       "      <td>74.31</td>\n",
       "      <td>36.444444</td>\n",
       "      <td>37.444445</td>\n",
       "      <td>36.94</td>\n",
       "      <td>0.0</td>\n",
       "      <td>90.0</td>\n",
       "      <td>160.0</td>\n",
       "      <td>0.0</td>\n",
       "      <td>0.0</td>\n",
       "    </tr>\n",
       "    <tr>\n",
       "      <th>2</th>\n",
       "      <td>28</td>\n",
       "      <td>162569</td>\n",
       "      <td>2177-09-01 07:15:00</td>\n",
       "      <td>2177-09-06 16:00:00</td>\n",
       "      <td>NaT</td>\n",
       "      <td>30029</td>\n",
       "      <td>74.384386</td>\n",
       "      <td>M</td>\n",
       "      <td>MARRIED</td>\n",
       "      <td>Medicare</td>\n",
       "      <td>...</td>\n",
       "      <td>61.0</td>\n",
       "      <td>47.74</td>\n",
       "      <td>35.900002</td>\n",
       "      <td>37.700001</td>\n",
       "      <td>37.03</td>\n",
       "      <td>40.0</td>\n",
       "      <td>153.0</td>\n",
       "      <td>760.0</td>\n",
       "      <td>0.0</td>\n",
       "      <td>0.0</td>\n",
       "    </tr>\n",
       "    <tr>\n",
       "      <th>3</th>\n",
       "      <td>36</td>\n",
       "      <td>182104</td>\n",
       "      <td>2131-04-30 07:15:00</td>\n",
       "      <td>2131-05-08 14:00:00</td>\n",
       "      <td>NaT</td>\n",
       "      <td>3051</td>\n",
       "      <td>69.699821</td>\n",
       "      <td>M</td>\n",
       "      <td>MARRIED</td>\n",
       "      <td>Medicare</td>\n",
       "      <td>...</td>\n",
       "      <td>101.0</td>\n",
       "      <td>68.77</td>\n",
       "      <td>36.099998</td>\n",
       "      <td>37.500000</td>\n",
       "      <td>36.86</td>\n",
       "      <td>7.0</td>\n",
       "      <td>99.0</td>\n",
       "      <td>450.0</td>\n",
       "      <td>0.0</td>\n",
       "      <td>26349.5</td>\n",
       "    </tr>\n",
       "    <tr>\n",
       "      <th>4</th>\n",
       "      <td>36</td>\n",
       "      <td>165660</td>\n",
       "      <td>2134-05-10 11:30:00</td>\n",
       "      <td>2134-05-20 13:16:00</td>\n",
       "      <td>NaT</td>\n",
       "      <td>30000</td>\n",
       "      <td>72.728435</td>\n",
       "      <td>M</td>\n",
       "      <td>MARRIED</td>\n",
       "      <td>Medicare</td>\n",
       "      <td>...</td>\n",
       "      <td>100.0</td>\n",
       "      <td>71.39</td>\n",
       "      <td>35.722222</td>\n",
       "      <td>38.166667</td>\n",
       "      <td>37.26</td>\n",
       "      <td>10.0</td>\n",
       "      <td>146.0</td>\n",
       "      <td>1000.0</td>\n",
       "      <td>26349.5</td>\n",
       "      <td>0.0</td>\n",
       "    </tr>\n",
       "  </tbody>\n",
       "</table>\n",
       "<p>5 rows × 42 columns</p>\n",
       "</div>"
      ],
      "text/plain": [
       "   subject_id  hadm_id           admittime           dischtime deathtime  \\\n",
       "0          17   161087 2135-05-09 14:11:00 2135-05-13 14:40:00       NaT   \n",
       "1          22   165315 2196-04-09 12:26:00 2196-04-10 15:54:00       NaT   \n",
       "2          28   162569 2177-09-01 07:15:00 2177-09-06 16:00:00       NaT   \n",
       "3          36   182104 2131-04-30 07:15:00 2131-05-08 14:00:00       NaT   \n",
       "4          36   165660 2134-05-10 11:30:00 2134-05-20 13:16:00       NaT   \n",
       "\n",
       "  icd9_code        age gender marital_status insurance       ...         \\\n",
       "0       311  47.819229      F        MARRIED   Private       ...          \n",
       "1     29620  64.928234      F        MARRIED   Private       ...          \n",
       "2     30029  74.384386      M        MARRIED  Medicare       ...          \n",
       "3      3051  69.699821      M        MARRIED  Medicare       ...          \n",
       "4     30000  72.728435      M        MARRIED  Medicare       ...          \n",
       "\n",
       "   diasbp_max  diasbp_mean   temp_min   temp_max  temp_mean  urine_min  \\\n",
       "0        71.0        63.20  36.599998  38.200001      37.33       30.0   \n",
       "1        91.0        74.31  36.444444  37.444445      36.94        0.0   \n",
       "2        61.0        47.74  35.900002  37.700001      37.03       40.0   \n",
       "3       101.0        68.77  36.099998  37.500000      36.86        7.0   \n",
       "4       100.0        71.39  35.722222  38.166667      37.26       10.0   \n",
       "\n",
       "   urine_mean  urine_max  readmit_dt  next_readmit_dt  \n",
       "0       104.0      360.0         0.0              0.0  \n",
       "1        90.0      160.0         0.0              0.0  \n",
       "2       153.0      760.0         0.0              0.0  \n",
       "3        99.0      450.0         0.0          26349.5  \n",
       "4       146.0     1000.0     26349.5              0.0  \n",
       "\n",
       "[5 rows x 42 columns]"
      ]
     },
     "execution_count": 7,
     "metadata": {},
     "output_type": "execute_result"
    }
   ],
   "source": [
    "data.head()"
   ]
  },
  {
   "cell_type": "code",
   "execution_count": 8,
   "metadata": {},
   "outputs": [
    {
     "name": "stderr",
     "output_type": "stream",
     "text": [
      "C:\\Users\\Haoyuan\\Anaconda3\\lib\\site-packages\\ipykernel_launcher.py:3: DeprecationWarning: \n",
      ".ix is deprecated. Please use\n",
      ".loc for label based indexing or\n",
      ".iloc for positional indexing\n",
      "\n",
      "See the documentation here:\n",
      "http://pandas.pydata.org/pandas-docs/stable/indexing.html#ix-indexer-is-deprecated\n",
      "  This is separate from the ipykernel package so we can avoid doing imports until\n"
     ]
    }
   ],
   "source": [
    "data = data.drop(['urine_min','urine_mean','urine_max'], axis = 1) #Too noisy\n",
    "data = data[data.readmit_dt >= 0] #Ignore cases where readmit_dt < 0, which result from duplicate records. \n",
    "data = data.ix[(data.deathtime.isnull())] #Remove cases where the patient died during stay\n",
    "data = data.drop(['deathtime'], axis = 1) # Important to drop before dropna otherwise most of the data is lost"
   ]
  },
  {
   "cell_type": "code",
   "execution_count": 16,
   "metadata": {},
   "outputs": [
    {
     "data": {
      "text/plain": [
       "(8831, 39)"
      ]
     },
     "execution_count": 16,
     "metadata": {},
     "output_type": "execute_result"
    }
   ],
   "source": [
    "data.shape"
   ]
  },
  {
   "cell_type": "code",
   "execution_count": 9,
   "metadata": {
    "scrolled": true
   },
   "outputs": [],
   "source": [
    "threshold = 30*24\n",
    "data['future_readmit'] = None\n",
    "data['future_readmit'] = ['No' if dt == 0.0 else 'Yes' if dt<=threshold else 'No' for dt in data.next_readmit_dt]"
   ]
  },
  {
   "cell_type": "code",
   "execution_count": 10,
   "metadata": {},
   "outputs": [
    {
     "name": "stdout",
     "output_type": "stream",
     "text": [
      "Value counts:\n",
      "No     7580\n",
      "Yes    4412\n",
      "Name: future_readmit, dtype: int64\n",
      "\n",
      "Value proportions:\n",
      "No     0.632088\n",
      "Yes    0.367912\n",
      "Name: future_readmit, dtype: float64\n"
     ]
    }
   ],
   "source": [
    "print ('Value counts:')\n",
    "print (data.future_readmit.value_counts())\n",
    "print ('\\nValue proportions:')\n",
    "print (data.future_readmit.value_counts()/data.shape[0])"
   ]
  },
  {
   "cell_type": "code",
   "execution_count": 11,
   "metadata": {},
   "outputs": [],
   "source": [
    "data.to_csv('mental_admits_clean.csv', index=False)"
   ]
  },
  {
   "cell_type": "code",
   "execution_count": null,
   "metadata": {},
   "outputs": [],
   "source": []
  },
  {
   "cell_type": "code",
   "execution_count": 12,
   "metadata": {},
   "outputs": [],
   "source": [
    "from sklearn.preprocessing import StandardScaler\n",
    "visualize = False\n",
    "mental_admits_clean = pd.read_csv('mental_admits_clean.csv')"
   ]
  },
  {
   "cell_type": "code",
   "execution_count": 16,
   "metadata": {},
   "outputs": [
    {
     "ename": "KeyError",
     "evalue": "\"labels ['readmit_last_careunit'] not contained in axis\"",
     "output_type": "error",
     "traceback": [
      "\u001b[1;31m---------------------------------------------------------------------------\u001b[0m",
      "\u001b[1;31mKeyError\u001b[0m                                  Traceback (most recent call last)",
      "\u001b[1;32m<ipython-input-16-04cbe8cb0cde>\u001b[0m in \u001b[0;36m<module>\u001b[1;34m()\u001b[0m\n\u001b[0;32m      5\u001b[0m \u001b[1;33m\u001b[0m\u001b[0m\n\u001b[0;32m      6\u001b[0m \u001b[1;31m# Define feature dataframe and split into numerical and categorical features\u001b[0m\u001b[1;33m\u001b[0m\u001b[1;33m\u001b[0m\u001b[0m\n\u001b[1;32m----> 7\u001b[1;33m \u001b[0mx_df\u001b[0m \u001b[1;33m=\u001b[0m \u001b[0mmental_admits_clean\u001b[0m\u001b[1;33m.\u001b[0m\u001b[0mdrop\u001b[0m\u001b[1;33m(\u001b[0m\u001b[1;33m[\u001b[0m\u001b[1;34m'subject_id'\u001b[0m\u001b[1;33m,\u001b[0m\u001b[1;34m'hadm_id'\u001b[0m\u001b[1;33m,\u001b[0m\u001b[1;34m'admittime'\u001b[0m\u001b[1;33m,\u001b[0m\u001b[1;34m'dischtime'\u001b[0m\u001b[1;33m,\u001b[0m\u001b[1;34m'readmit_dt'\u001b[0m\u001b[1;33m,\u001b[0m\u001b[1;34m'readmit_last_careunit'\u001b[0m\u001b[1;33m,\u001b[0m \u001b[1;34m'future_readmit'\u001b[0m\u001b[1;33m,\u001b[0m \u001b[1;34m'next_readmit_dt'\u001b[0m \u001b[1;33m,\u001b[0m\u001b[1;34m'albumin_min'\u001b[0m\u001b[1;33m]\u001b[0m\u001b[1;33m,\u001b[0m \u001b[0maxis\u001b[0m \u001b[1;33m=\u001b[0m \u001b[1;36m1\u001b[0m\u001b[1;33m)\u001b[0m\u001b[1;33m\u001b[0m\u001b[0m\n\u001b[0m\u001b[0;32m      8\u001b[0m \u001b[0mx_df_cat\u001b[0m \u001b[1;33m=\u001b[0m \u001b[0mx_df\u001b[0m\u001b[1;33m[\u001b[0m\u001b[1;33m[\u001b[0m\u001b[1;34m'gender'\u001b[0m\u001b[1;33m,\u001b[0m \u001b[1;34m'marital_status'\u001b[0m\u001b[1;33m,\u001b[0m \u001b[1;34m'insurance'\u001b[0m\u001b[1;33m]\u001b[0m\u001b[1;33m]\u001b[0m\u001b[1;33m.\u001b[0m\u001b[0mcopy\u001b[0m\u001b[1;33m(\u001b[0m\u001b[1;33m)\u001b[0m\u001b[1;33m\u001b[0m\u001b[0m\n\u001b[0;32m      9\u001b[0m \u001b[0mx_df_num\u001b[0m \u001b[1;33m=\u001b[0m \u001b[0mx_df\u001b[0m\u001b[1;33m.\u001b[0m\u001b[0mdrop\u001b[0m\u001b[1;33m(\u001b[0m\u001b[1;33m[\u001b[0m\u001b[1;34m'gender'\u001b[0m\u001b[1;33m,\u001b[0m \u001b[1;34m'marital_status'\u001b[0m\u001b[1;33m,\u001b[0m \u001b[1;34m'insurance'\u001b[0m\u001b[1;33m]\u001b[0m\u001b[1;33m,\u001b[0m \u001b[0maxis\u001b[0m \u001b[1;33m=\u001b[0m \u001b[1;36m1\u001b[0m\u001b[1;33m)\u001b[0m\u001b[1;33m\u001b[0m\u001b[0m\n",
      "\u001b[1;32m~\\Anaconda3\\lib\\site-packages\\pandas\\core\\frame.py\u001b[0m in \u001b[0;36mdrop\u001b[1;34m(self, labels, axis, index, columns, level, inplace, errors)\u001b[0m\n\u001b[0;32m   3692\u001b[0m                                            \u001b[0mindex\u001b[0m\u001b[1;33m=\u001b[0m\u001b[0mindex\u001b[0m\u001b[1;33m,\u001b[0m \u001b[0mcolumns\u001b[0m\u001b[1;33m=\u001b[0m\u001b[0mcolumns\u001b[0m\u001b[1;33m,\u001b[0m\u001b[1;33m\u001b[0m\u001b[0m\n\u001b[0;32m   3693\u001b[0m                                            \u001b[0mlevel\u001b[0m\u001b[1;33m=\u001b[0m\u001b[0mlevel\u001b[0m\u001b[1;33m,\u001b[0m \u001b[0minplace\u001b[0m\u001b[1;33m=\u001b[0m\u001b[0minplace\u001b[0m\u001b[1;33m,\u001b[0m\u001b[1;33m\u001b[0m\u001b[0m\n\u001b[1;32m-> 3694\u001b[1;33m                                            errors=errors)\n\u001b[0m\u001b[0;32m   3695\u001b[0m \u001b[1;33m\u001b[0m\u001b[0m\n\u001b[0;32m   3696\u001b[0m     @rewrite_axis_style_signature('mapper', [('copy', True),\n",
      "\u001b[1;32m~\\Anaconda3\\lib\\site-packages\\pandas\\core\\generic.py\u001b[0m in \u001b[0;36mdrop\u001b[1;34m(self, labels, axis, index, columns, level, inplace, errors)\u001b[0m\n\u001b[0;32m   3106\u001b[0m         \u001b[1;32mfor\u001b[0m \u001b[0maxis\u001b[0m\u001b[1;33m,\u001b[0m \u001b[0mlabels\u001b[0m \u001b[1;32min\u001b[0m \u001b[0maxes\u001b[0m\u001b[1;33m.\u001b[0m\u001b[0mitems\u001b[0m\u001b[1;33m(\u001b[0m\u001b[1;33m)\u001b[0m\u001b[1;33m:\u001b[0m\u001b[1;33m\u001b[0m\u001b[0m\n\u001b[0;32m   3107\u001b[0m             \u001b[1;32mif\u001b[0m \u001b[0mlabels\u001b[0m \u001b[1;32mis\u001b[0m \u001b[1;32mnot\u001b[0m \u001b[1;32mNone\u001b[0m\u001b[1;33m:\u001b[0m\u001b[1;33m\u001b[0m\u001b[0m\n\u001b[1;32m-> 3108\u001b[1;33m                 \u001b[0mobj\u001b[0m \u001b[1;33m=\u001b[0m \u001b[0mobj\u001b[0m\u001b[1;33m.\u001b[0m\u001b[0m_drop_axis\u001b[0m\u001b[1;33m(\u001b[0m\u001b[0mlabels\u001b[0m\u001b[1;33m,\u001b[0m \u001b[0maxis\u001b[0m\u001b[1;33m,\u001b[0m \u001b[0mlevel\u001b[0m\u001b[1;33m=\u001b[0m\u001b[0mlevel\u001b[0m\u001b[1;33m,\u001b[0m \u001b[0merrors\u001b[0m\u001b[1;33m=\u001b[0m\u001b[0merrors\u001b[0m\u001b[1;33m)\u001b[0m\u001b[1;33m\u001b[0m\u001b[0m\n\u001b[0m\u001b[0;32m   3109\u001b[0m \u001b[1;33m\u001b[0m\u001b[0m\n\u001b[0;32m   3110\u001b[0m         \u001b[1;32mif\u001b[0m \u001b[0minplace\u001b[0m\u001b[1;33m:\u001b[0m\u001b[1;33m\u001b[0m\u001b[0m\n",
      "\u001b[1;32m~\\Anaconda3\\lib\\site-packages\\pandas\\core\\generic.py\u001b[0m in \u001b[0;36m_drop_axis\u001b[1;34m(self, labels, axis, level, errors)\u001b[0m\n\u001b[0;32m   3138\u001b[0m                 \u001b[0mnew_axis\u001b[0m \u001b[1;33m=\u001b[0m \u001b[0maxis\u001b[0m\u001b[1;33m.\u001b[0m\u001b[0mdrop\u001b[0m\u001b[1;33m(\u001b[0m\u001b[0mlabels\u001b[0m\u001b[1;33m,\u001b[0m \u001b[0mlevel\u001b[0m\u001b[1;33m=\u001b[0m\u001b[0mlevel\u001b[0m\u001b[1;33m,\u001b[0m \u001b[0merrors\u001b[0m\u001b[1;33m=\u001b[0m\u001b[0merrors\u001b[0m\u001b[1;33m)\u001b[0m\u001b[1;33m\u001b[0m\u001b[0m\n\u001b[0;32m   3139\u001b[0m             \u001b[1;32melse\u001b[0m\u001b[1;33m:\u001b[0m\u001b[1;33m\u001b[0m\u001b[0m\n\u001b[1;32m-> 3140\u001b[1;33m                 \u001b[0mnew_axis\u001b[0m \u001b[1;33m=\u001b[0m \u001b[0maxis\u001b[0m\u001b[1;33m.\u001b[0m\u001b[0mdrop\u001b[0m\u001b[1;33m(\u001b[0m\u001b[0mlabels\u001b[0m\u001b[1;33m,\u001b[0m \u001b[0merrors\u001b[0m\u001b[1;33m=\u001b[0m\u001b[0merrors\u001b[0m\u001b[1;33m)\u001b[0m\u001b[1;33m\u001b[0m\u001b[0m\n\u001b[0m\u001b[0;32m   3141\u001b[0m             \u001b[0mdropped\u001b[0m \u001b[1;33m=\u001b[0m \u001b[0mself\u001b[0m\u001b[1;33m.\u001b[0m\u001b[0mreindex\u001b[0m\u001b[1;33m(\u001b[0m\u001b[1;33m**\u001b[0m\u001b[1;33m{\u001b[0m\u001b[0maxis_name\u001b[0m\u001b[1;33m:\u001b[0m \u001b[0mnew_axis\u001b[0m\u001b[1;33m}\u001b[0m\u001b[1;33m)\u001b[0m\u001b[1;33m\u001b[0m\u001b[0m\n\u001b[0;32m   3142\u001b[0m             \u001b[1;32mtry\u001b[0m\u001b[1;33m:\u001b[0m\u001b[1;33m\u001b[0m\u001b[0m\n",
      "\u001b[1;32m~\\Anaconda3\\lib\\site-packages\\pandas\\core\\indexes\\base.py\u001b[0m in \u001b[0;36mdrop\u001b[1;34m(self, labels, errors)\u001b[0m\n\u001b[0;32m   4385\u001b[0m             \u001b[1;32mif\u001b[0m \u001b[0merrors\u001b[0m \u001b[1;33m!=\u001b[0m \u001b[1;34m'ignore'\u001b[0m\u001b[1;33m:\u001b[0m\u001b[1;33m\u001b[0m\u001b[0m\n\u001b[0;32m   4386\u001b[0m                 raise KeyError(\n\u001b[1;32m-> 4387\u001b[1;33m                     'labels %s not contained in axis' % labels[mask])\n\u001b[0m\u001b[0;32m   4388\u001b[0m             \u001b[0mindexer\u001b[0m \u001b[1;33m=\u001b[0m \u001b[0mindexer\u001b[0m\u001b[1;33m[\u001b[0m\u001b[1;33m~\u001b[0m\u001b[0mmask\u001b[0m\u001b[1;33m]\u001b[0m\u001b[1;33m\u001b[0m\u001b[0m\n\u001b[0;32m   4389\u001b[0m         \u001b[1;32mreturn\u001b[0m \u001b[0mself\u001b[0m\u001b[1;33m.\u001b[0m\u001b[0mdelete\u001b[0m\u001b[1;33m(\u001b[0m\u001b[0mindexer\u001b[0m\u001b[1;33m)\u001b[0m\u001b[1;33m\u001b[0m\u001b[0m\n",
      "\u001b[1;31mKeyError\u001b[0m: \"labels ['readmit_last_careunit'] not contained in axis\""
     ]
    }
   ],
   "source": [
    "# Define label dataframe \n",
    "will_readmit = (mental_admits_clean.future_readmit == 'Yes')\n",
    "y_df = pd.DataFrame(will_readmit.map({True: 1, False: 0}))\n",
    "y_df.columns = ['label']\n",
    "\n",
    "# Define feature dataframe and split into numerical and categorical features\n",
    "x_df = mental_admits_clean.drop(['subject_id','hadm_id','admittime','dischtime','readmit_dt','readmit_last_careunit', 'future_readmit', 'next_readmit_dt' ,'albumin_min'], axis = 1)\n",
    "x_df_cat = x_df[['gender', 'marital_status', 'insurance']].copy()\n",
    "x_df_num = x_df.drop(['gender', 'marital_status', 'insurance'], axis = 1)"
   ]
  },
  {
   "cell_type": "code",
   "execution_count": 52,
   "metadata": {},
   "outputs": [],
   "source": [
    "np.sum(x_df_num.isnull())\n",
    "x_df_num.fillna(x_df_num.mean(), inplace = True)"
   ]
  },
  {
   "cell_type": "code",
   "execution_count": 54,
   "metadata": {},
   "outputs": [
    {
     "name": "stdout",
     "output_type": "stream",
     "text": [
      "3754 outliers removed\n"
     ]
    }
   ],
   "source": [
    "# Scale numerical features\n",
    "scaled_x_df_num = pd.DataFrame(StandardScaler().fit_transform(x_df_num), columns=x_df_num.keys())\n",
    "\n",
    "\n",
    "# Find outliers based on 1.5*(Q3-Q1) outlier step\n",
    "outliers  = []\n",
    "# For each feature find the data points with extreme high or low values\n",
    "for feature in scaled_x_df_num.keys():\n",
    "    # Calculate Q1 (25th percentile of the data) for the given feature\n",
    "    Q1 = np.percentile(scaled_x_df_num[feature],25)\n",
    "    # Calculate Q3 (75th percentile of the data) for the given feature\n",
    "    Q3 = np.percentile(scaled_x_df_num[feature],75)\n",
    "    # Use the interquartile range to calculate an outlier step (1.5 times the interquartile range)\n",
    "    step = 1.5*(Q3-Q1)\n",
    "    outliers_per_feature = scaled_x_df_num[~((scaled_x_df_num[feature] >= Q1 - step) & (scaled_x_df_num[feature] <= Q3 + step))]\n",
    "    outliers = outliers + list(outliers_per_feature.index)\n",
    "outliers.sort()\n",
    "outliers = list(set(outliers))\n",
    "\n",
    "# Remove outliers\n",
    "clean_scaled_x_df_num = scaled_x_df_num.drop(scaled_x_df_num.index[outliers]).reset_index(drop = True)\n",
    "print('{} outliers removed'.format(len(outliers)))\n"
   ]
  },
  {
   "cell_type": "code",
   "execution_count": 55,
   "metadata": {},
   "outputs": [],
   "source": [
    "# Convert categorical features to \"One Hot Encoding\" vectors\n",
    "clean_x_df_cat = x_df_cat.drop(x_df_cat.index[outliers]).reset_index(drop = True)\n",
    "clean_x_df_cat_ohe = pd.get_dummies(clean_x_df_cat, drop_first=True)\n",
    "\n",
    "# Recombine scaled numerical and encoded categorical features by concatination\n",
    "x_df = pd.concat([clean_scaled_x_df_num, clean_x_df_cat_ohe], axis = 1)\n",
    "\n",
    "# Drop outliers from label Dataframe as well\n",
    "y_df = y_df.drop(y_df.index[outliers]).reset_index(drop = True)"
   ]
  },
  {
   "cell_type": "code",
   "execution_count": 56,
   "metadata": {},
   "outputs": [
    {
     "name": "stdout",
     "output_type": "stream",
     "text": [
      "Value counts:\n",
      "0    3588\n",
      "1    1489\n",
      "Name: label, dtype: int64\n",
      "\n",
      "Value proportions:\n",
      "0    0.706717\n",
      "1    0.293283\n",
      "Name: label, dtype: float64\n"
     ]
    }
   ],
   "source": [
    "print ('Value counts:')\n",
    "print (y_df.label.value_counts())\n",
    "print ('\\nValue proportions:')\n",
    "print (y_df.label.value_counts()/y_df.shape[0])"
   ]
  },
  {
   "cell_type": "code",
   "execution_count": 58,
   "metadata": {},
   "outputs": [],
   "source": [
    "# Save preprocessed Dataframes to csv\n",
    "x_df.to_csv('x_df.csv')\n",
    "y_df.to_csv('y_df.csv')"
   ]
  },
  {
   "cell_type": "code",
   "execution_count": 59,
   "metadata": {},
   "outputs": [
    {
     "name": "stdout",
     "output_type": "stream",
     "text": [
      "Collecting xgboost\n",
      "\u001b[?25l  Downloading https://files.pythonhosted.org/packages/4f/4c/4969b10939c4557ae46e5569d07c0c7ce772b3d6b9c1401a6ed07059fdee/xgboost-0.81.tar.gz (636kB)\n",
      "\u001b[K    100% |████████████████████████████████| 645kB 5.5MB/s ta 0:00:011\n",
      "\u001b[?25hRequirement already satisfied: numpy in /anaconda3/lib/python3.6/site-packages (from xgboost) (1.14.0)\n",
      "Requirement already satisfied: scipy in /anaconda3/lib/python3.6/site-packages (from xgboost) (1.0.0)\n",
      "Building wheels for collected packages: xgboost\n",
      "  Building wheel for xgboost (setup.py) ... \u001b[?25ldone\n",
      "\u001b[?25h  Stored in directory: /Users/Haoyuan/Library/Caches/pip/wheels/8a/89/0c/4870bb69132698f40889fa956f92e630a36c1fd7173fcc759f\n",
      "Successfully built xgboost\n",
      "Installing collected packages: xgboost\n",
      "Successfully installed xgboost-0.81\n"
     ]
    }
   ],
   "source": []
  },
  {
   "cell_type": "code",
   "execution_count": 60,
   "metadata": {},
   "outputs": [],
   "source": [
    "import os\n",
    "# Requirement in order to import xgboost\n",
    "mingw_path = 'C:\\\\Program Files\\\\mingw-w64\\\\x86_64-6.1.0-posix-seh-rt_v5-rev0\\\\mingw64\\\\bin'\n",
    "os.environ['PATH'] = mingw_path + ';' + os.environ['PATH']\n",
    "\n",
    "#import all relevant libraries\n",
    "import xgboost as xgb\n",
    "from xgboost.sklearn import XGBClassifier\n",
    "from xgboost import plot_importance\n",
    "import pandas as pd\n",
    "import numpy as np\n",
    "import matplotlib.pyplot as plt\n",
    "from sklearn.model_selection import GridSearchCV, StratifiedKFold\n",
    "from sklearn.metrics import classification_report, confusion_matrix, precision_score, recall_score, roc_curve, auc\n",
    "from scipy import interp\n",
    "\n",
    "%matplotlib inline"
   ]
  },
  {
   "cell_type": "code",
   "execution_count": 61,
   "metadata": {},
   "outputs": [],
   "source": [
    "# Read preprocessed dataframes produced in notebook 2_preprocessing.ipynb\n",
    "x_df = pd.read_csv('x_df.csv')\n",
    "y_df = pd.read_csv('y_df.csv')"
   ]
  },
  {
   "cell_type": "code",
   "execution_count": 62,
   "metadata": {},
   "outputs": [
    {
     "data": {
      "text/plain": [
       "2.409670920080591"
      ]
     },
     "execution_count": 62,
     "metadata": {},
     "output_type": "execute_result"
    }
   ],
   "source": [
    "# Define the class weight scale (a hyperparameter) as the ration of negative labels to positive labels.\n",
    "# This instructs the classifier to address the class imbalance.\n",
    "class_weight_scale = 1.*y_df.label.value_counts()[0]/y_df.label.value_counts()[1]\n",
    "class_weight_scale"
   ]
  },
  {
   "cell_type": "code",
   "execution_count": 63,
   "metadata": {},
   "outputs": [
    {
     "data": {
      "text/plain": [
       "XGBClassifier(base_score=0.5, booster='gbtree', colsample_bylevel=1,\n",
       "       colsample_bytree=1, gamma=0, learning_rate=0.1, max_delta_step=0,\n",
       "       max_depth=3, min_child_weight=1, missing=None, n_estimators=100,\n",
       "       n_jobs=1, nthread=4, objective='binary:logistic', random_state=0,\n",
       "       reg_alpha=0, reg_lambda=1, scale_pos_weight=2.409670920080591,\n",
       "       seed=1, silent=True, subsample=1)"
      ]
     },
     "execution_count": 63,
     "metadata": {},
     "output_type": "execute_result"
    }
   ],
   "source": [
    "# Setting minimal required initial hyperparameters\n",
    "\n",
    "param={\n",
    "    'objective':'binary:logistic',\n",
    "    'nthread':4,\n",
    "    'scale_pos_weight':class_weight_scale,\n",
    "    'seed' : 1   \n",
    "}\n",
    "xgb1 = XGBClassifier()\n",
    "xgb1.set_params(**param)"
   ]
  },
  {
   "cell_type": "code",
   "execution_count": 66,
   "metadata": {},
   "outputs": [
    {
     "name": "stdout",
     "output_type": "stream",
     "text": [
      "class weight scale : 2.4097397145256085\n",
      "class weight scale : 2.4097397145256085\n",
      "class weight scale : 2.4097397145256085\n",
      "class weight scale : 2.4105793450881614\n",
      "class weight scale : 2.408557046979866\n"
     ]
    },
    {
     "data": {
      "image/png": "[encoded data removed]",
      "text/plain": [
       "<matplotlib.figure.Figure at 0x10959da58>"
      ]
     },
     "metadata": {},
     "output_type": "display_data"
    }
   ],
   "source": [
    "# Train initial classifier and analyze performace using K-fold cross-validation \n",
    "K = 5\n",
    "eval_size = int(np.round(1./K))\n",
    "skf = StratifiedKFold(n_splits=K)\n",
    "\n",
    "fig = plt.figure(figsize=(7,7))\n",
    "mean_tpr = 0.0\n",
    "mean_fpr = np.linspace(0, 1, 100)\n",
    "lw = 2\n",
    "i = 0\n",
    "roc_aucs_xgb1 = []\n",
    "for train_indices, test_indices in skf.split(x_df, y_df['label']):\n",
    "    X_train, y_train = x_df.iloc[train_indices], y_df['label'].iloc[train_indices]\n",
    "    X_valid, y_valid = x_df.iloc[test_indices], y_df['label'].iloc[test_indices]\n",
    "    class_weight_scale = 1.*y_train.value_counts()[0]/y_train.value_counts()[1]\n",
    "    print ('class weight scale : {}'.format(class_weight_scale))\n",
    "    xgb1.set_params(**{'scale_pos_weight' : class_weight_scale})\n",
    "    xgb1.fit(X_train,y_train)\n",
    "    xgb1_pred_prob = xgb1.predict_proba(X_valid)\n",
    "    fpr, tpr, thresholds = roc_curve(y_valid, xgb1_pred_prob[:, 1])\n",
    "    mean_tpr += interp(mean_fpr, fpr, tpr)\n",
    "    mean_tpr[0] = 0.0\n",
    "    roc_auc = auc(fpr, tpr)\n",
    "    roc_aucs_xgb1.append(roc_auc)\n",
    "    plt.plot(fpr, tpr, lw=2, label='ROC fold %d (area = %0.2f)' % (i, roc_auc))\n",
    "\n",
    "    i += 1\n",
    "    plt.plot([0, 1], [0, 1], linestyle='--', lw=lw, color='k',\n",
    "         label='Luck')\n",
    "\n",
    "mean_tpr /= K\n",
    "mean_tpr[-1] = 1.0\n",
    "mean_auc = auc(mean_fpr, mean_tpr)\n",
    "plt.plot(mean_fpr, mean_tpr, color='g', linestyle='--',\n",
    "         label='Mean ROC (area = %0.2f)' % mean_auc, lw=lw)\n",
    "\n",
    "plt.xlim([-0.05, 1.05])\n",
    "plt.ylim([-0.05, 1.05])\n",
    "plt.xlabel('False Positive Rate')\n",
    "plt.ylabel('True Positive Rate')\n",
    "plt.title('Initial estimator ROC curve')\n",
    "plt.legend(loc=\"lower right\")\n",
    "\n",
    "fig.savefig('initial_ROC.png')"
   ]
  },
  {
   "cell_type": "code",
   "execution_count": 68,
   "metadata": {},
   "outputs": [
    {
     "name": "stdout",
     "output_type": "stream",
     "text": [
      "performing hyperparamter optimization step 0\n",
      "{'n_estimators': 50} 0.6572846223987285\n",
      "performing hyperparamter optimization step 1\n",
      "{'max_depth': 1, 'min_child_weight': 1} 0.7382142750141921\n",
      "performing hyperparamter optimization step 2\n",
      "{'gamma': 0.0} 0.7382142750141921\n",
      "performing hyperparamter optimization step 3\n",
      "{'colsample_bytree': 0.9, 'subsample': 0.3} 0.7413979222145585\n",
      "performing hyperparamter optimization step 4\n",
      "{'reg_alpha': 0} 0.7413979222145585\n",
      "XGBClassifier(base_score=0.5, booster='gbtree', colsample_bylevel=1,\n",
      "       colsample_bytree=0.9, gamma=0.0, learning_rate=0.1,\n",
      "       max_delta_step=0, max_depth=1, min_child_weight=1, missing=None,\n",
      "       n_estimators=50, n_jobs=1, nthread=4, objective='binary:logistic',\n",
      "       random_state=0, reg_alpha=0, reg_lambda=1,\n",
      "       scale_pos_weight=2.408557046979866, seed=1, silent=True,\n",
      "       subsample=0.3)\n"
     ]
    }
   ],
   "source": [
    "# Option to perform hyperparameter optimization. Otherwise loads pre-defined xgb_opt params\n",
    "optimize = True\n",
    "X_train = x_df\n",
    "y_train = y_df['label']\n",
    "\n",
    "if optimize:\n",
    "   \n",
    "    param_test0 = {\n",
    "     'n_estimators':range(50,250,10)\n",
    "    }\n",
    "    print ('performing hyperparamter optimization step 0')\n",
    "    gsearch0 = GridSearchCV(estimator = xgb1, param_grid = param_test0, scoring='roc_auc',n_jobs=4,iid=False, cv=5)\n",
    "    gsearch0.fit(X_train,y_train)\n",
    "    print (gsearch0.best_params_, gsearch0.best_score_)\n",
    "\n",
    "    param_test1 = {\n",
    "     'max_depth':range(1,10),\n",
    "     'min_child_weight':range(1,10)\n",
    "    }\n",
    "    print ('performing hyperparamter optimization step 1')\n",
    "    gsearch1 = GridSearchCV(estimator = gsearch0.best_estimator_,\n",
    "     param_grid = param_test1, scoring='roc_auc',n_jobs=4,iid=False, cv=5)\n",
    "    gsearch1.fit(X_train,y_train)\n",
    "    print (gsearch1.best_params_, gsearch1.best_score_)\n",
    "\n",
    "    max_d = gsearch1.best_params_['max_depth']\n",
    "    min_c = gsearch1.best_params_['min_child_weight']\n",
    "    \n",
    "    param_test2 = {\n",
    "     'gamma':[i/10. for i in range(0,5)]\n",
    "    }\n",
    "    print ('performing hyperparamter optimization step 2')\n",
    "    gsearch2 = GridSearchCV(estimator = gsearch1.best_estimator_, param_grid = param_test2, scoring='roc_auc',n_jobs=4,iid=False, cv=5)\n",
    "    gsearch2.fit(X_train,y_train)\n",
    "    print (gsearch2.best_params_, gsearch2.best_score_)\n",
    "\n",
    "    param_test3 = {\n",
    "        'subsample':[i/10.0 for i in range(1,10)],\n",
    "        'colsample_bytree':[i/10.0 for i in range(1,10)]\n",
    "    }\n",
    "    print ('performing hyperparamter optimization step 3')\n",
    "    gsearch3 = GridSearchCV(estimator = gsearch2.best_estimator_, \n",
    "     param_grid = param_test3, scoring='roc_auc',n_jobs=4,iid=False, cv=5)\n",
    "    gsearch3.fit(X_train,y_train)\n",
    "    print (gsearch3.best_params_, gsearch3.best_score_)\n",
    "\n",
    "    param_test4 = {\n",
    "        'reg_alpha':[0, 1e-5, 1e-3, 0.1, 10]\n",
    "    }\n",
    "    print ('performing hyperparamter optimization step 4')\n",
    "    gsearch4 = GridSearchCV(estimator = gsearch3.best_estimator_, \n",
    "     param_grid = param_test4, scoring='roc_auc',n_jobs=4,iid=False, cv=5)\n",
    "    gsearch4.fit(X_train,y_train)\n",
    "    print (gsearch4.best_params_, gsearch4.best_score_)\n",
    "\n",
    "    alpha = gsearch4.best_params_['reg_alpha']\n",
    "    if alpha != 0:\n",
    "        param_test4b = {\n",
    "            'reg_alpha':[0.1*alpha, 0.25*alpha, 0.5*alpha, alpha, 2.5*alpha, 5*alpha, 10*alpha]\n",
    "        }\n",
    "        print ('performing hyperparamter optimization step 4b')\n",
    "        gsearch4b = GridSearchCV(estimator = gsearch4.best_estimator_, \n",
    "         param_grid = param_test4b, scoring='roc_auc',n_jobs=4,iid=False, cv=5)\n",
    "        gsearch4b.fit(X_train,y_train)\n",
    "        print (gsearch4b.best_params_, gsearch4.best_score_)\n",
    "        print ('\\nParameter optimization finished!')\n",
    "        xgb_opt = gsearch4b.best_estimator_\n",
    "        xgb_opt\n",
    "    else:\n",
    "        xgb_opt = gsearch4.best_estimator_\n",
    "        xgb_opt\n",
    "else: \n",
    "    # Pre-optimized settings\n",
    "    xgb_opt = XGBClassifier(base_score=0.5, colsample_bylevel=1, colsample_bytree=0.7,\n",
    "       gamma=0.1, learning_rate=0.1, max_delta_step=0, max_depth=3,\n",
    "       min_child_weight=5, missing=None, n_estimators=70, nthread=4,\n",
    "       objective='binary:logistic', reg_alpha=25.0, reg_lambda=1,\n",
    "       scale_pos_weight=7.0909090909090908, seed=1, silent=True,\n",
    "       subsample=0.6)\n",
    "    \n",
    "print (xgb_opt)"
   ]
  },
  {
   "cell_type": "code",
   "execution_count": 70,
   "metadata": {},
   "outputs": [
    {
     "name": "stdout",
     "output_type": "stream",
     "text": [
      "class weight scale : 2.4097397145256085\n",
      "class weight scale : 2.4097397145256085\n",
      "class weight scale : 2.4097397145256085\n",
      "class weight scale : 2.4105793450881614\n",
      "class weight scale : 2.408557046979866\n"
     ]
    },
    {
     "data": {
      "image/png": "[encoded data removed]",
      "text/plain": [
       "<matplotlib.figure.Figure at 0x109592d30>"
      ]
     },
     "metadata": {},
     "output_type": "display_data"
    }
   ],
   "source": [
    "K = 5\n",
    "eval_size = int(np.round(1./K))\n",
    "skf = StratifiedKFold(n_splits=K)\n",
    "\n",
    "\n",
    "fig = plt.figure(figsize=(7,7))\n",
    "mean_tpr = 0.0\n",
    "mean_fpr = np.linspace(0, 1, 100)\n",
    "lw = 2\n",
    "i = 0\n",
    "roc_aucs_xgbopt = []\n",
    "for train_indices, test_indices in skf.split(x_df, y_df['label']):\n",
    "    X_train, y_train = x_df.iloc[train_indices], y_df['label'].iloc[train_indices]\n",
    "    X_valid, y_valid = x_df.iloc[test_indices], y_df['label'].iloc[test_indices]\n",
    "    class_weight_scale = 1.*y_train.value_counts()[0]/y_train.value_counts()[1]\n",
    "    print ('class weight scale : {}'.format(class_weight_scale))\n",
    "    xgb_opt.set_params(**{'scale_pos_weight' : class_weight_scale})\n",
    "    xgb_opt.fit(X_train,y_train)\n",
    "    xgb_opt_pred_prob = xgb_opt.predict_proba(X_valid)\n",
    "    fpr, tpr, thresholds = roc_curve(y_valid, xgb_opt_pred_prob[:, 1])\n",
    "    mean_tpr += interp(mean_fpr, fpr, tpr)\n",
    "    mean_tpr[0] = 0.0\n",
    "    roc_auc = auc(fpr, tpr)\n",
    "    roc_aucs_xgbopt.append(roc_auc)\n",
    "    plt.plot(fpr, tpr, lw=2, label='ROC fold %d (area = %0.2f)' % (i, roc_auc))\n",
    "\n",
    "    i += 1\n",
    "    \n",
    "plt.plot([0, 1], [0, 1], linestyle='--', lw=lw, color='k',\n",
    "         label='Luck')\n",
    "\n",
    "mean_tpr /= K\n",
    "mean_tpr[-1] = 1.0\n",
    "mean_auc = auc(mean_fpr, mean_tpr)\n",
    "plt.plot(mean_fpr, mean_tpr, color='g', linestyle='--',\n",
    "         label='Mean ROC (area = %0.2f)' % mean_auc, lw=lw)\n",
    "\n",
    "plt.xlim([-0.05, 1.05])\n",
    "plt.ylim([-0.05, 1.05])\n",
    "plt.xlabel('False Positive Rate')\n",
    "plt.ylabel('True Positive Rate')\n",
    "plt.title('ROC curve')\n",
    "plt.legend(loc=\"lower right\")\n",
    "\n",
    "fig.savefig('ROC.png')"
   ]
  },
  {
   "cell_type": "code",
   "execution_count": 72,
   "metadata": {},
   "outputs": [
    {
     "data": {
      "image/png": "[encoded data removed]",
      "text/plain": [
       "<matplotlib.figure.Figure at 0x1097f5860>"
      ]
     },
     "metadata": {},
     "output_type": "display_data"
    }
   ],
   "source": [
    "if optimize:\n",
    "    \n",
    "    aucs = [np.mean(roc_aucs_xgb1),\n",
    "            gsearch0.best_score_,\n",
    "            gsearch1.best_score_,\n",
    "            gsearch2.best_score_,\n",
    "            gsearch3.best_score_,\n",
    "            gsearch4.best_score_,\n",
    "            np.mean(roc_aucs_xgbopt)]\n",
    "    \n",
    "    fig = plt.figure(figsize=(4,4))\n",
    "    plt.scatter(np.arange(1,len(aucs)+1), aucs)\n",
    "    plt.plot(np.arange(1,len(aucs)+1), aucs)\n",
    "    plt.xlim([0.5, len(aucs)+0.5])\n",
    "    plt.ylim([0.99*aucs[0], 1.01*aucs[-1]])\n",
    "    plt.xlabel('Hyperparamter optimization step')\n",
    "    plt.ylabel('AUC')\n",
    "    plt.title('Hyperparameter optimization')\n",
    "    plt.grid()\n",
    "    fig.savefig('optimization.png')"
   ]
  },
  {
   "cell_type": "code",
   "execution_count": 74,
   "metadata": {},
   "outputs": [
    {
     "name": "stdout",
     "output_type": "stream",
     "text": [
      "             precision    recall  f1-score   support\n",
      "\n",
      "          0       0.71      1.00      0.83      3588\n",
      "          1       0.00      0.00      0.00      1489\n",
      "\n",
      "avg / total       0.50      0.71      0.59      5077\n",
      "\n"
     ]
    },
    {
     "name": "stderr",
     "output_type": "stream",
     "text": [
      "/anaconda3/lib/python3.6/site-packages/sklearn/metrics/classification.py:1135: UndefinedMetricWarning: Precision and F-score are ill-defined and being set to 0.0 in labels with no predicted samples.\n",
      "  'precision', 'predicted', average, warn_for)\n"
     ]
    }
   ],
   "source": [
    "print (classification_report(y_true = y_df.label, y_pred = np.zeros(y_df.shape[0])))\n"
   ]
  },
  {
   "cell_type": "code",
   "execution_count": 75,
   "metadata": {},
   "outputs": [
    {
     "name": "stdout",
     "output_type": "stream",
     "text": [
      "             precision    recall  f1-score   support\n",
      "\n",
      "          0       0.87      0.56      0.68      3588\n",
      "          1       0.43      0.80      0.56      1489\n",
      "\n",
      "avg / total       0.74      0.63      0.64      5077\n",
      "\n"
     ]
    },
    {
     "name": "stderr",
     "output_type": "stream",
     "text": [
      "/anaconda3/lib/python3.6/site-packages/sklearn/preprocessing/label.py:151: DeprecationWarning: The truth value of an empty array is ambiguous. Returning False, but in future this will result in an error. Use `array.size > 0` to check that an array is not empty.\n",
      "  if diff:\n"
     ]
    }
   ],
   "source": [
    "print (classification_report(y_true = y_df.label, y_pred = xgb_opt.predict(x_df)))\n"
   ]
  },
  {
   "cell_type": "code",
   "execution_count": 77,
   "metadata": {},
   "outputs": [
    {
     "data": {
      "image/png": "[encoded data removed]",
      "text/plain": [
       "<matplotlib.figure.Figure at 0x109bcf668>"
      ]
     },
     "metadata": {},
     "output_type": "display_data"
    }
   ],
   "source": [
    "def my_plot_importance(booster, figsize, **kwargs): \n",
    "    from matplotlib import pyplot as plt\n",
    "    from xgboost import plot_importance\n",
    "    fig, ax = plt.subplots(1,1,figsize=(figsize))\n",
    "    plot_importance(booster=booster, ax=ax, **kwargs)\n",
    "    for item in ([ax.title, ax.xaxis.label, ax.yaxis.label,] +\n",
    "ax.get_xticklabels() + ax.get_yticklabels()):\n",
    "        item.set_fontsize(10)\n",
    "    plt.tight_layout()\n",
    "    fig.savefig('Feature_importance.png')\n",
    "\n",
    "my_plot_importance(xgb_opt, (5,10))"
   ]
  }
 ],
 "metadata": {
  "kernelspec": {
   "display_name": "Python 3",
   "language": "python",
   "name": "python3"
  },
  "language_info": {
   "codemirror_mode": {
    "name": "ipython",
    "version": 3
   },
   "file_extension": ".py",
   "mimetype": "text/x-python",
   "name": "python",
   "nbconvert_exporter": "python",
   "pygments_lexer": "ipython3",
   "version": "3.6.5"
  }
 },
 "nbformat": 4,
 "nbformat_minor": 2
}
